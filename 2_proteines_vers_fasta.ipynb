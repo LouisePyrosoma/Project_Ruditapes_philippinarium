{
 "cells": [
  {
   "cell_type": "markdown",
   "id": "397faf19-d4dc-44cf-81e3-7e866c87df67",
   "metadata": {},
   "source": [
    "# Introduction\n",
    "\n",
    "Ce notebook permet d'extraire les séquences en nucléotides des protéines sélectionnées auparavant (grâce au notebook1 (lien)) dans un nouveau fichier fasta, afin de pouvoir réaliser un BLAST et identifier les protéines sélectionnées.\n",
    "Les séquences de toutes les protéines détectées durant l'expérience sont regroupées dans le fichier \"Reads.fa\" dans le dossier \"input\", un numéro de locus étant attribué à chaque séquence nucléotidique de protéine. \n",
    "La liste des protéines sélectionnées issu du notebook1 est dans le fichier \"significant_proteins.csv\""
   ]
  },
  {
   "cell_type": "markdown",
   "id": "991786ef-5f43-428c-a683-c86891d2e079",
   "metadata": {},
   "source": [
    "## Charger les librairies nécessaires et créer les dossiers"
   ]
  },
  {
   "cell_type": "code",
   "execution_count": 21,
   "id": "cba018b0-f78f-4b10-a575-a752d1eff386",
   "metadata": {},
   "outputs": [],
   "source": [
    "suppressPackageStartupMessages(library(seqinr))\n",
    "suppressPackageStartupMessages(library(BiocManager))\n",
    "suppressPackageStartupMessages(library(Biostrings))\n"
   ]
  },
  {
   "cell_type": "markdown",
   "id": "5b4f75e1-c4b6-466b-8c7a-1c5b75b5f8da",
   "metadata": {},
   "source": [
    "## Importer les fichiers"
   ]
  },
  {
   "cell_type": "code",
   "execution_count": 22,
   "id": "52a302aa-b4e2-4bef-8211-6a799cea2070",
   "metadata": {
    "tags": []
   },
   "outputs": [
    {
     "data": {
      "text/html": [
       "<table class=\"dataframe\">\n",
       "<caption>A data.frame: 6 × 38</caption>\n",
       "<thead>\n",
       "\t<tr><th></th><th scope=col>X</th><th scope=col>Protein.Group</th><th scope=col>Protein.ID</th><th scope=col>Accession</th><th scope=col>Significance</th><th scope=col>Coverage....</th><th scope=col>X.Peptides</th><th scope=col>X.Unique</th><th scope=col>PTM</th><th scope=col>MAL_pres</th><th scope=col>⋯</th><th scope=col>Group.Profile..Ratio.</th><th scope=col>Avg..Mass</th><th scope=col>Description</th><th scope=col>Fold_Change</th><th scope=col>Log2_Fold_Change</th><th scope=col>P_value</th><th scope=col>log10P_value</th><th scope=col>Significant</th><th scope=col>Category</th><th scope=col>locus</th></tr>\n",
       "\t<tr><th></th><th scope=col>&lt;int&gt;</th><th scope=col>&lt;int&gt;</th><th scope=col>&lt;int&gt;</th><th scope=col>&lt;chr&gt;</th><th scope=col>&lt;chr&gt;</th><th scope=col>&lt;int&gt;</th><th scope=col>&lt;int&gt;</th><th scope=col>&lt;int&gt;</th><th scope=col>&lt;chr&gt;</th><th scope=col>&lt;lgl&gt;</th><th scope=col>⋯</th><th scope=col>&lt;chr&gt;</th><th scope=col>&lt;int&gt;</th><th scope=col>&lt;chr&gt;</th><th scope=col>&lt;chr&gt;</th><th scope=col>&lt;chr&gt;</th><th scope=col>&lt;chr&gt;</th><th scope=col>&lt;chr&gt;</th><th scope=col>&lt;chr&gt;</th><th scope=col>&lt;chr&gt;</th><th scope=col>&lt;chr&gt;</th></tr>\n",
       "</thead>\n",
       "<tbody>\n",
       "\t<tr><th scope=row>1</th><td>1</td><td> 63</td><td> 55</td><td>|Locus_4313121.p1</td><td>45,04</td><td>36</td><td>34</td><td>34</td><td>Carbamidomethylation               </td><td>TRUE</td><td>⋯</td><td>1.77:1.00</td><td>60127</td><td>GENE.Locus_4313121|Locus_4313121.p1  ORF type:complete len:556 (+) score=143.89 Locus_4313121:57-1724(+)     </td><td>1,76446280991736 </td><td>0,819229022345896</td><td>0,0415500135407299  </td><td>-1,38142883034766</td><td>Significant</td><td>Significant and high fold change</td><td>Locus_4313121</td></tr>\n",
       "\t<tr><th scope=row>2</th><td>2</td><td> 86</td><td>129</td><td>|Locus_2348137.p1</td><td>34,36</td><td>38</td><td>26</td><td>26</td><td>Carbamidomethylation               </td><td>TRUE</td><td>⋯</td><td>1.57:1.00</td><td>39966</td><td>GENE.Locus_2348137|Locus_2348137.p1  ORF type:5prime_partial len:366 (+) score=103.29 Locus_2348137:1-1098(+)</td><td>1,57317073170732 </td><td>0,653675250805171</td><td>0,00191196305750407 </td><td>-2,71852050331365</td><td>Significant</td><td>Significant and high fold change</td><td>Locus_2348137</td></tr>\n",
       "\t<tr><th scope=row>3</th><td>3</td><td>100</td><td>117</td><td>|Locus_2044774.p1</td><td>200  </td><td>34</td><td>19</td><td>19</td><td>Carbamidomethylation               </td><td>TRUE</td><td>⋯</td><td>3.54:1.00</td><td>46033</td><td>GENE.Locus_2044774|Locus_2044774.p1  ORF type:complete len:414 (+) score=73.30 Locus_2044774:33-1274(+)      </td><td>3,53135313531353 </td><td>1,82022109781556 </td><td>0,000209327496153221</td><td>-3,6791737212872 </td><td>Significant</td><td>Significant and high fold change</td><td>Locus_2044774</td></tr>\n",
       "\t<tr><th scope=row>4</th><td>4</td><td>245</td><td>470</td><td>|Locus_7235177.p1</td><td>200  </td><td>35</td><td> 9</td><td> 9</td><td>Carbamidomethylation; Oxidation (M)</td><td>TRUE</td><td>⋯</td><td>3.29:1.00</td><td>27282</td><td>GENE.Locus_7235177|Locus_7235177.p1  ORF type:5prime_partial len:231 (+) score=27.98 Locus_7235177:1-693(+)  </td><td>3,28193832599119 </td><td>1,71454812805861 </td><td>0,0180657459865189  </td><td>-1,74314410045966</td><td>Significant</td><td>Significant and high fold change</td><td>Locus_7235177</td></tr>\n",
       "\t<tr><th scope=row>5</th><td>5</td><td>289</td><td>283</td><td>|Locus_4823168.p1</td><td>97,27</td><td>16</td><td> 8</td><td> 8</td><td>Carbamidomethylation               </td><td>TRUE</td><td>⋯</td><td>0.41:1.00</td><td>42357</td><td>GENE.Locus_4823168|Locus_4823168.p1  ORF type:complete len:388 (+) score=86.53 Locus_4823168:57-1220(+)      </td><td>0,414166666666667</td><td>-1,27171664893359</td><td>0,0388613020657051  </td><td>-1,41048265225715</td><td>Significant</td><td>Significant and high fold change</td><td>Locus_4823168</td></tr>\n",
       "\t<tr><th scope=row>6</th><td>6</td><td> 25</td><td> 10</td><td>|Locus_381335.p1 </td><td>31,78</td><td>52</td><td>56</td><td> 7</td><td>Carbamidomethylation; Oxidation (M)</td><td>TRUE</td><td>⋯</td><td>1.60:1.00</td><td>72615</td><td>GENE.Locus_381335|Locus_381335.p1  ORF type:complete len:645 (+) score=138.43 Locus_381335:155-2089(+)       </td><td>1,6017316017316  </td><td>0,679632419100255</td><td>0,0378345848963259  </td><td>-1,4221110265497 </td><td>Significant</td><td>Significant and high fold change</td><td>Locus_381335 </td></tr>\n",
       "</tbody>\n",
       "</table>\n"
      ],
      "text/latex": [
       "A data.frame: 6 × 38\n",
       "\\begin{tabular}{r|lllllllllllllllllllll}\n",
       "  & X & Protein.Group & Protein.ID & Accession & Significance & Coverage.... & X.Peptides & X.Unique & PTM & MAL\\_pres & ⋯ & Group.Profile..Ratio. & Avg..Mass & Description & Fold\\_Change & Log2\\_Fold\\_Change & P\\_value & log10P\\_value & Significant & Category & locus\\\\\n",
       "  & <int> & <int> & <int> & <chr> & <chr> & <int> & <int> & <int> & <chr> & <lgl> & ⋯ & <chr> & <int> & <chr> & <chr> & <chr> & <chr> & <chr> & <chr> & <chr> & <chr>\\\\\n",
       "\\hline\n",
       "\t1 & 1 &  63 &  55 & \\textbar{}Locus\\_4313121.p1 & 45,04 & 36 & 34 & 34 & Carbamidomethylation                & TRUE & ⋯ & 1.77:1.00 & 60127 & GENE.Locus\\_4313121\\textbar{}Locus\\_4313121.p1  ORF type:complete len:556 (+) score=143.89 Locus\\_4313121:57-1724(+)      & 1,76446280991736  & 0,819229022345896 & 0,0415500135407299   & -1,38142883034766 & Significant & Significant and high fold change & Locus\\_4313121\\\\\n",
       "\t2 & 2 &  86 & 129 & \\textbar{}Locus\\_2348137.p1 & 34,36 & 38 & 26 & 26 & Carbamidomethylation                & TRUE & ⋯ & 1.57:1.00 & 39966 & GENE.Locus\\_2348137\\textbar{}Locus\\_2348137.p1  ORF type:5prime\\_partial len:366 (+) score=103.29 Locus\\_2348137:1-1098(+) & 1,57317073170732  & 0,653675250805171 & 0,00191196305750407  & -2,71852050331365 & Significant & Significant and high fold change & Locus\\_2348137\\\\\n",
       "\t3 & 3 & 100 & 117 & \\textbar{}Locus\\_2044774.p1 & 200   & 34 & 19 & 19 & Carbamidomethylation                & TRUE & ⋯ & 3.54:1.00 & 46033 & GENE.Locus\\_2044774\\textbar{}Locus\\_2044774.p1  ORF type:complete len:414 (+) score=73.30 Locus\\_2044774:33-1274(+)       & 3,53135313531353  & 1,82022109781556  & 0,000209327496153221 & -3,6791737212872  & Significant & Significant and high fold change & Locus\\_2044774\\\\\n",
       "\t4 & 4 & 245 & 470 & \\textbar{}Locus\\_7235177.p1 & 200   & 35 &  9 &  9 & Carbamidomethylation; Oxidation (M) & TRUE & ⋯ & 3.29:1.00 & 27282 & GENE.Locus\\_7235177\\textbar{}Locus\\_7235177.p1  ORF type:5prime\\_partial len:231 (+) score=27.98 Locus\\_7235177:1-693(+)   & 3,28193832599119  & 1,71454812805861  & 0,0180657459865189   & -1,74314410045966 & Significant & Significant and high fold change & Locus\\_7235177\\\\\n",
       "\t5 & 5 & 289 & 283 & \\textbar{}Locus\\_4823168.p1 & 97,27 & 16 &  8 &  8 & Carbamidomethylation                & TRUE & ⋯ & 0.41:1.00 & 42357 & GENE.Locus\\_4823168\\textbar{}Locus\\_4823168.p1  ORF type:complete len:388 (+) score=86.53 Locus\\_4823168:57-1220(+)       & 0,414166666666667 & -1,27171664893359 & 0,0388613020657051   & -1,41048265225715 & Significant & Significant and high fold change & Locus\\_4823168\\\\\n",
       "\t6 & 6 &  25 &  10 & \\textbar{}Locus\\_381335.p1  & 31,78 & 52 & 56 &  7 & Carbamidomethylation; Oxidation (M) & TRUE & ⋯ & 1.60:1.00 & 72615 & GENE.Locus\\_381335\\textbar{}Locus\\_381335.p1  ORF type:complete len:645 (+) score=138.43 Locus\\_381335:155-2089(+)        & 1,6017316017316   & 0,679632419100255 & 0,0378345848963259   & -1,4221110265497  & Significant & Significant and high fold change & Locus\\_381335 \\\\\n",
       "\\end{tabular}\n"
      ],
      "text/markdown": [
       "\n",
       "A data.frame: 6 × 38\n",
       "\n",
       "| <!--/--> | X &lt;int&gt; | Protein.Group &lt;int&gt; | Protein.ID &lt;int&gt; | Accession &lt;chr&gt; | Significance &lt;chr&gt; | Coverage.... &lt;int&gt; | X.Peptides &lt;int&gt; | X.Unique &lt;int&gt; | PTM &lt;chr&gt; | MAL_pres &lt;lgl&gt; | ⋯ ⋯ | Group.Profile..Ratio. &lt;chr&gt; | Avg..Mass &lt;int&gt; | Description &lt;chr&gt; | Fold_Change &lt;chr&gt; | Log2_Fold_Change &lt;chr&gt; | P_value &lt;chr&gt; | log10P_value &lt;chr&gt; | Significant &lt;chr&gt; | Category &lt;chr&gt; | locus &lt;chr&gt; |\n",
       "|---|---|---|---|---|---|---|---|---|---|---|---|---|---|---|---|---|---|---|---|---|---|\n",
       "| 1 | 1 |  63 |  55 | |Locus_4313121.p1 | 45,04 | 36 | 34 | 34 | Carbamidomethylation                | TRUE | ⋯ | 1.77:1.00 | 60127 | GENE.Locus_4313121|Locus_4313121.p1  ORF type:complete len:556 (+) score=143.89 Locus_4313121:57-1724(+)      | 1,76446280991736  | 0,819229022345896 | 0,0415500135407299   | -1,38142883034766 | Significant | Significant and high fold change | Locus_4313121 |\n",
       "| 2 | 2 |  86 | 129 | |Locus_2348137.p1 | 34,36 | 38 | 26 | 26 | Carbamidomethylation                | TRUE | ⋯ | 1.57:1.00 | 39966 | GENE.Locus_2348137|Locus_2348137.p1  ORF type:5prime_partial len:366 (+) score=103.29 Locus_2348137:1-1098(+) | 1,57317073170732  | 0,653675250805171 | 0,00191196305750407  | -2,71852050331365 | Significant | Significant and high fold change | Locus_2348137 |\n",
       "| 3 | 3 | 100 | 117 | |Locus_2044774.p1 | 200   | 34 | 19 | 19 | Carbamidomethylation                | TRUE | ⋯ | 3.54:1.00 | 46033 | GENE.Locus_2044774|Locus_2044774.p1  ORF type:complete len:414 (+) score=73.30 Locus_2044774:33-1274(+)       | 3,53135313531353  | 1,82022109781556  | 0,000209327496153221 | -3,6791737212872  | Significant | Significant and high fold change | Locus_2044774 |\n",
       "| 4 | 4 | 245 | 470 | |Locus_7235177.p1 | 200   | 35 |  9 |  9 | Carbamidomethylation; Oxidation (M) | TRUE | ⋯ | 3.29:1.00 | 27282 | GENE.Locus_7235177|Locus_7235177.p1  ORF type:5prime_partial len:231 (+) score=27.98 Locus_7235177:1-693(+)   | 3,28193832599119  | 1,71454812805861  | 0,0180657459865189   | -1,74314410045966 | Significant | Significant and high fold change | Locus_7235177 |\n",
       "| 5 | 5 | 289 | 283 | |Locus_4823168.p1 | 97,27 | 16 |  8 |  8 | Carbamidomethylation                | TRUE | ⋯ | 0.41:1.00 | 42357 | GENE.Locus_4823168|Locus_4823168.p1  ORF type:complete len:388 (+) score=86.53 Locus_4823168:57-1220(+)       | 0,414166666666667 | -1,27171664893359 | 0,0388613020657051   | -1,41048265225715 | Significant | Significant and high fold change | Locus_4823168 |\n",
       "| 6 | 6 |  25 |  10 | |Locus_381335.p1  | 31,78 | 52 | 56 |  7 | Carbamidomethylation; Oxidation (M) | TRUE | ⋯ | 1.60:1.00 | 72615 | GENE.Locus_381335|Locus_381335.p1  ORF type:complete len:645 (+) score=138.43 Locus_381335:155-2089(+)        | 1,6017316017316   | 0,679632419100255 | 0,0378345848963259   | -1,4221110265497  | Significant | Significant and high fold change | Locus_381335  |\n",
       "\n"
      ],
      "text/plain": [
       "  X Protein.Group Protein.ID Accession         Significance Coverage....\n",
       "1 1  63            55        |Locus_4313121.p1 45,04        36          \n",
       "2 2  86           129        |Locus_2348137.p1 34,36        38          \n",
       "3 3 100           117        |Locus_2044774.p1 200          34          \n",
       "4 4 245           470        |Locus_7235177.p1 200          35          \n",
       "5 5 289           283        |Locus_4823168.p1 97,27        16          \n",
       "6 6  25            10        |Locus_381335.p1  31,78        52          \n",
       "  X.Peptides X.Unique PTM                                 MAL_pres ⋯\n",
       "1 34         34       Carbamidomethylation                TRUE     ⋯\n",
       "2 26         26       Carbamidomethylation                TRUE     ⋯\n",
       "3 19         19       Carbamidomethylation                TRUE     ⋯\n",
       "4  9          9       Carbamidomethylation; Oxidation (M) TRUE     ⋯\n",
       "5  8          8       Carbamidomethylation                TRUE     ⋯\n",
       "6 56          7       Carbamidomethylation; Oxidation (M) TRUE     ⋯\n",
       "  Group.Profile..Ratio. Avg..Mass\n",
       "1 1.77:1.00             60127    \n",
       "2 1.57:1.00             39966    \n",
       "3 3.54:1.00             46033    \n",
       "4 3.29:1.00             27282    \n",
       "5 0.41:1.00             42357    \n",
       "6 1.60:1.00             72615    \n",
       "  Description                                                                                                  \n",
       "1 GENE.Locus_4313121|Locus_4313121.p1  ORF type:complete len:556 (+) score=143.89 Locus_4313121:57-1724(+)     \n",
       "2 GENE.Locus_2348137|Locus_2348137.p1  ORF type:5prime_partial len:366 (+) score=103.29 Locus_2348137:1-1098(+)\n",
       "3 GENE.Locus_2044774|Locus_2044774.p1  ORF type:complete len:414 (+) score=73.30 Locus_2044774:33-1274(+)      \n",
       "4 GENE.Locus_7235177|Locus_7235177.p1  ORF type:5prime_partial len:231 (+) score=27.98 Locus_7235177:1-693(+)  \n",
       "5 GENE.Locus_4823168|Locus_4823168.p1  ORF type:complete len:388 (+) score=86.53 Locus_4823168:57-1220(+)      \n",
       "6 GENE.Locus_381335|Locus_381335.p1  ORF type:complete len:645 (+) score=138.43 Locus_381335:155-2089(+)       \n",
       "  Fold_Change       Log2_Fold_Change  P_value              log10P_value     \n",
       "1 1,76446280991736  0,819229022345896 0,0415500135407299   -1,38142883034766\n",
       "2 1,57317073170732  0,653675250805171 0,00191196305750407  -2,71852050331365\n",
       "3 3,53135313531353  1,82022109781556  0,000209327496153221 -3,6791737212872 \n",
       "4 3,28193832599119  1,71454812805861  0,0180657459865189   -1,74314410045966\n",
       "5 0,414166666666667 -1,27171664893359 0,0388613020657051   -1,41048265225715\n",
       "6 1,6017316017316   0,679632419100255 0,0378345848963259   -1,4221110265497 \n",
       "  Significant Category                         locus        \n",
       "1 Significant Significant and high fold change Locus_4313121\n",
       "2 Significant Significant and high fold change Locus_2348137\n",
       "3 Significant Significant and high fold change Locus_2044774\n",
       "4 Significant Significant and high fold change Locus_7235177\n",
       "5 Significant Significant and high fold change Locus_4823168\n",
       "6 Significant Significant and high fold change Locus_381335 "
      ]
     },
     "metadata": {},
     "output_type": "display_data"
    },
    {
     "data": {
      "text/plain": [
       "DNAStringSet object of length 6:\n",
       "    width seq                                               names               \n",
       "[1]  6763 \u001b[47m\u001b[30mC\u001b[39m\u001b[49m\u001b[47m\u001b[30mA\u001b[39m\u001b[49m\u001b[47m\u001b[30mC\u001b[39m\u001b[49m\u001b[47m\u001b[30mA\u001b[39m\u001b[49m\u001b[47m\u001b[30mT\u001b[39m\u001b[49m\u001b[47m\u001b[30mG\u001b[39m\u001b[49m\u001b[47m\u001b[30mC\u001b[39m\u001b[49m\u001b[47m\u001b[30mC\u001b[39m\u001b[49m\u001b[47m\u001b[30mG\u001b[39m\u001b[49m\u001b[47m\u001b[30mG\u001b[39m\u001b[49m\u001b[47m\u001b[30mT\u001b[39m\u001b[49m\u001b[47m\u001b[30mT\u001b[39m\u001b[49m\u001b[47m\u001b[30mT\u001b[39m\u001b[49m\u001b[47m\u001b[30mT\u001b[39m\u001b[49m\u001b[47m\u001b[30mA\u001b[39m\u001b[49m\u001b[47m\u001b[30mA\u001b[39m\u001b[49m\u001b[47m\u001b[30mA\u001b[39m\u001b[49m\u001b[47m\u001b[30mA\u001b[39m\u001b[49m\u001b[47m\u001b[30mC\u001b[39m\u001b[49m\u001b[47m\u001b[30mT\u001b[39m\u001b[49m\u001b[47m\u001b[30mG\u001b[39m\u001b[49m\u001b[47m\u001b[30mT\u001b[39m\u001b[49m\u001b[47m\u001b[30mC\u001b[39m\u001b[49m...\u001b[47m\u001b[30mG\u001b[39m\u001b[49m\u001b[47m\u001b[30mG\u001b[39m\u001b[49m\u001b[47m\u001b[30mA\u001b[39m\u001b[49m\u001b[47m\u001b[30mA\u001b[39m\u001b[49m\u001b[47m\u001b[30mC\u001b[39m\u001b[49m\u001b[47m\u001b[30mA\u001b[39m\u001b[49m\u001b[47m\u001b[30mG\u001b[39m\u001b[49m\u001b[47m\u001b[30mG\u001b[39m\u001b[49m\u001b[47m\u001b[30mA\u001b[39m\u001b[49m\u001b[47m\u001b[30mA\u001b[39m\u001b[49m\u001b[47m\u001b[30mC\u001b[39m\u001b[49m\u001b[47m\u001b[30mC\u001b[39m\u001b[49m\u001b[47m\u001b[30mG\u001b[39m\u001b[49m\u001b[47m\u001b[30mG\u001b[39m\u001b[49m\u001b[47m\u001b[30mA\u001b[39m\u001b[49m\u001b[47m\u001b[30mA\u001b[39m\u001b[49m\u001b[47m\u001b[30mC\u001b[39m\u001b[49m\u001b[47m\u001b[30mG\u001b[39m\u001b[49m\u001b[47m\u001b[30mG\u001b[39m\u001b[49m\u001b[47m\u001b[30mG\u001b[39m\u001b[49m\u001b[47m\u001b[30mT\u001b[39m\u001b[49m\u001b[47m\u001b[30mG\u001b[39m\u001b[49m\u001b[47m\u001b[30mG\u001b[39m\u001b[49m Locus_6941\n",
       "[2]  1888 \u001b[47m\u001b[30mG\u001b[39m\u001b[49m\u001b[47m\u001b[30mA\u001b[39m\u001b[49m\u001b[47m\u001b[30mG\u001b[39m\u001b[49m\u001b[47m\u001b[30mA\u001b[39m\u001b[49m\u001b[47m\u001b[30mA\u001b[39m\u001b[49m\u001b[47m\u001b[30mA\u001b[39m\u001b[49m\u001b[47m\u001b[30mA\u001b[39m\u001b[49m\u001b[47m\u001b[30mT\u001b[39m\u001b[49m\u001b[47m\u001b[30mG\u001b[39m\u001b[49m\u001b[47m\u001b[30mC\u001b[39m\u001b[49m\u001b[47m\u001b[30mC\u001b[39m\u001b[49m\u001b[47m\u001b[30mC\u001b[39m\u001b[49m\u001b[47m\u001b[30mG\u001b[39m\u001b[49m\u001b[47m\u001b[30mT\u001b[39m\u001b[49m\u001b[47m\u001b[30mA\u001b[39m\u001b[49m\u001b[47m\u001b[30mA\u001b[39m\u001b[49m\u001b[47m\u001b[30mA\u001b[39m\u001b[49m\u001b[47m\u001b[30mT\u001b[39m\u001b[49m\u001b[47m\u001b[30mA\u001b[39m\u001b[49m\u001b[47m\u001b[30mA\u001b[39m\u001b[49m\u001b[47m\u001b[30mA\u001b[39m\u001b[49m\u001b[47m\u001b[30mC\u001b[39m\u001b[49m\u001b[47m\u001b[30mA\u001b[39m\u001b[49m...\u001b[47m\u001b[30mT\u001b[39m\u001b[49m\u001b[47m\u001b[30mG\u001b[39m\u001b[49m\u001b[47m\u001b[30mG\u001b[39m\u001b[49m\u001b[47m\u001b[30mG\u001b[39m\u001b[49m\u001b[47m\u001b[30mA\u001b[39m\u001b[49m\u001b[47m\u001b[30mA\u001b[39m\u001b[49m\u001b[47m\u001b[30mC\u001b[39m\u001b[49m\u001b[47m\u001b[30mG\u001b[39m\u001b[49m\u001b[47m\u001b[30mC\u001b[39m\u001b[49m\u001b[47m\u001b[30mC\u001b[39m\u001b[49m\u001b[47m\u001b[30mC\u001b[39m\u001b[49m\u001b[47m\u001b[30mC\u001b[39m\u001b[49m\u001b[47m\u001b[30mT\u001b[39m\u001b[49m\u001b[47m\u001b[30mG\u001b[39m\u001b[49m\u001b[47m\u001b[30mG\u001b[39m\u001b[49m\u001b[47m\u001b[30mC\u001b[39m\u001b[49m\u001b[47m\u001b[30mG\u001b[39m\u001b[49m\u001b[47m\u001b[30mG\u001b[39m\u001b[49m\u001b[47m\u001b[30mG\u001b[39m\u001b[49m\u001b[47m\u001b[30mC\u001b[39m\u001b[49m\u001b[47m\u001b[30mG\u001b[39m\u001b[49m\u001b[47m\u001b[30mG\u001b[39m\u001b[49m\u001b[47m\u001b[30mG\u001b[39m\u001b[49m Locus_11305\n",
       "[3]  2460 \u001b[47m\u001b[30mG\u001b[39m\u001b[49m\u001b[47m\u001b[30mG\u001b[39m\u001b[49m\u001b[47m\u001b[30mG\u001b[39m\u001b[49m\u001b[47m\u001b[30mG\u001b[39m\u001b[49m\u001b[47m\u001b[30mC\u001b[39m\u001b[49m\u001b[47m\u001b[30mA\u001b[39m\u001b[49m\u001b[47m\u001b[30mA\u001b[39m\u001b[49m\u001b[47m\u001b[30mA\u001b[39m\u001b[49m\u001b[47m\u001b[30mT\u001b[39m\u001b[49m\u001b[47m\u001b[30mT\u001b[39m\u001b[49m\u001b[47m\u001b[30mT\u001b[39m\u001b[49m\u001b[47m\u001b[30mC\u001b[39m\u001b[49m\u001b[47m\u001b[30mG\u001b[39m\u001b[49m\u001b[47m\u001b[30mT\u001b[39m\u001b[49m\u001b[47m\u001b[30mG\u001b[39m\u001b[49m\u001b[47m\u001b[30mA\u001b[39m\u001b[49m\u001b[47m\u001b[30mG\u001b[39m\u001b[49m\u001b[47m\u001b[30mT\u001b[39m\u001b[49m\u001b[47m\u001b[30mC\u001b[39m\u001b[49m\u001b[47m\u001b[30mG\u001b[39m\u001b[49m\u001b[47m\u001b[30mG\u001b[39m\u001b[49m\u001b[47m\u001b[30mT\u001b[39m\u001b[49m\u001b[47m\u001b[30mC\u001b[39m\u001b[49m...\u001b[47m\u001b[30mG\u001b[39m\u001b[49m\u001b[47m\u001b[30mT\u001b[39m\u001b[49m\u001b[47m\u001b[30mA\u001b[39m\u001b[49m\u001b[47m\u001b[30mT\u001b[39m\u001b[49m\u001b[47m\u001b[30mT\u001b[39m\u001b[49m\u001b[47m\u001b[30mT\u001b[39m\u001b[49m\u001b[47m\u001b[30mA\u001b[39m\u001b[49m\u001b[47m\u001b[30mG\u001b[39m\u001b[49m\u001b[47m\u001b[30mT\u001b[39m\u001b[49m\u001b[47m\u001b[30mG\u001b[39m\u001b[49m\u001b[47m\u001b[30mG\u001b[39m\u001b[49m\u001b[47m\u001b[30mT\u001b[39m\u001b[49m\u001b[47m\u001b[30mC\u001b[39m\u001b[49m\u001b[47m\u001b[30mT\u001b[39m\u001b[49m\u001b[47m\u001b[30mC\u001b[39m\u001b[49m\u001b[47m\u001b[30mA\u001b[39m\u001b[49m\u001b[47m\u001b[30mA\u001b[39m\u001b[49m\u001b[47m\u001b[30mA\u001b[39m\u001b[49m\u001b[47m\u001b[30mT\u001b[39m\u001b[49m\u001b[47m\u001b[30mT\u001b[39m\u001b[49m\u001b[47m\u001b[30mT\u001b[39m\u001b[49m\u001b[47m\u001b[30mC\u001b[39m\u001b[49m\u001b[47m\u001b[30mC\u001b[39m\u001b[49m Locus_11646\n",
       "[4]  3677 \u001b[47m\u001b[30mG\u001b[39m\u001b[49m\u001b[47m\u001b[30mC\u001b[39m\u001b[49m\u001b[47m\u001b[30mC\u001b[39m\u001b[49m\u001b[47m\u001b[30mC\u001b[39m\u001b[49m\u001b[47m\u001b[30mT\u001b[39m\u001b[49m\u001b[47m\u001b[30mT\u001b[39m\u001b[49m\u001b[47m\u001b[30mC\u001b[39m\u001b[49m\u001b[47m\u001b[30mG\u001b[39m\u001b[49m\u001b[47m\u001b[30mA\u001b[39m\u001b[49m\u001b[47m\u001b[30mT\u001b[39m\u001b[49m\u001b[47m\u001b[30mA\u001b[39m\u001b[49m\u001b[47m\u001b[30mA\u001b[39m\u001b[49m\u001b[47m\u001b[30mA\u001b[39m\u001b[49m\u001b[47m\u001b[30mA\u001b[39m\u001b[49m\u001b[47m\u001b[30mA\u001b[39m\u001b[49m\u001b[47m\u001b[30mT\u001b[39m\u001b[49m\u001b[47m\u001b[30mG\u001b[39m\u001b[49m\u001b[47m\u001b[30mA\u001b[39m\u001b[49m\u001b[47m\u001b[30mA\u001b[39m\u001b[49m\u001b[47m\u001b[30mA\u001b[39m\u001b[49m\u001b[47m\u001b[30mA\u001b[39m\u001b[49m\u001b[47m\u001b[30mT\u001b[39m\u001b[49m\u001b[47m\u001b[30mC\u001b[39m\u001b[49m...\u001b[47m\u001b[30mA\u001b[39m\u001b[49m\u001b[47m\u001b[30mA\u001b[39m\u001b[49m\u001b[47m\u001b[30mG\u001b[39m\u001b[49m\u001b[47m\u001b[30mC\u001b[39m\u001b[49m\u001b[47m\u001b[30mA\u001b[39m\u001b[49m\u001b[47m\u001b[30mA\u001b[39m\u001b[49m\u001b[47m\u001b[30mT\u001b[39m\u001b[49m\u001b[47m\u001b[30mC\u001b[39m\u001b[49m\u001b[47m\u001b[30mA\u001b[39m\u001b[49m\u001b[47m\u001b[30mA\u001b[39m\u001b[49m\u001b[47m\u001b[30mT\u001b[39m\u001b[49m\u001b[47m\u001b[30mT\u001b[39m\u001b[49m\u001b[47m\u001b[30mC\u001b[39m\u001b[49m\u001b[47m\u001b[30mA\u001b[39m\u001b[49m\u001b[47m\u001b[30mC\u001b[39m\u001b[49m\u001b[47m\u001b[30mA\u001b[39m\u001b[49m\u001b[47m\u001b[30mC\u001b[39m\u001b[49m\u001b[47m\u001b[30mA\u001b[39m\u001b[49m\u001b[47m\u001b[30mC\u001b[39m\u001b[49m\u001b[47m\u001b[30mA\u001b[39m\u001b[49m\u001b[47m\u001b[30mG\u001b[39m\u001b[49m\u001b[47m\u001b[30mG\u001b[39m\u001b[49m\u001b[47m\u001b[30mA\u001b[39m\u001b[49m Locus_11693\n",
       "[5]  1695 \u001b[47m\u001b[30mG\u001b[39m\u001b[49m\u001b[47m\u001b[30mG\u001b[39m\u001b[49m\u001b[47m\u001b[30mC\u001b[39m\u001b[49m\u001b[47m\u001b[30mT\u001b[39m\u001b[49m\u001b[47m\u001b[30mG\u001b[39m\u001b[49m\u001b[47m\u001b[30mC\u001b[39m\u001b[49m\u001b[47m\u001b[30mA\u001b[39m\u001b[49m\u001b[47m\u001b[30mG\u001b[39m\u001b[49m\u001b[47m\u001b[30mG\u001b[39m\u001b[49m\u001b[47m\u001b[30mA\u001b[39m\u001b[49m\u001b[47m\u001b[30mT\u001b[39m\u001b[49m\u001b[47m\u001b[30mT\u001b[39m\u001b[49m\u001b[47m\u001b[30mC\u001b[39m\u001b[49m\u001b[47m\u001b[30mT\u001b[39m\u001b[49m\u001b[47m\u001b[30mG\u001b[39m\u001b[49m\u001b[47m\u001b[30mA\u001b[39m\u001b[49m\u001b[47m\u001b[30mA\u001b[39m\u001b[49m\u001b[47m\u001b[30mG\u001b[39m\u001b[49m\u001b[47m\u001b[30mT\u001b[39m\u001b[49m\u001b[47m\u001b[30mG\u001b[39m\u001b[49m\u001b[47m\u001b[30mA\u001b[39m\u001b[49m\u001b[47m\u001b[30mG\u001b[39m\u001b[49m\u001b[47m\u001b[30mT\u001b[39m\u001b[49m...\u001b[47m\u001b[30mC\u001b[39m\u001b[49m\u001b[47m\u001b[30mA\u001b[39m\u001b[49m\u001b[47m\u001b[30mC\u001b[39m\u001b[49m\u001b[47m\u001b[30mG\u001b[39m\u001b[49m\u001b[47m\u001b[30mA\u001b[39m\u001b[49m\u001b[47m\u001b[30mC\u001b[39m\u001b[49m\u001b[47m\u001b[30mT\u001b[39m\u001b[49m\u001b[47m\u001b[30mT\u001b[39m\u001b[49m\u001b[47m\u001b[30mT\u001b[39m\u001b[49m\u001b[47m\u001b[30mT\u001b[39m\u001b[49m\u001b[47m\u001b[30mC\u001b[39m\u001b[49m\u001b[47m\u001b[30mT\u001b[39m\u001b[49m\u001b[47m\u001b[30mT\u001b[39m\u001b[49m\u001b[47m\u001b[30mC\u001b[39m\u001b[49m\u001b[47m\u001b[30mC\u001b[39m\u001b[49m\u001b[47m\u001b[30mA\u001b[39m\u001b[49m\u001b[47m\u001b[30mA\u001b[39m\u001b[49m\u001b[47m\u001b[30mA\u001b[39m\u001b[49m\u001b[47m\u001b[30mA\u001b[39m\u001b[49m\u001b[47m\u001b[30mT\u001b[39m\u001b[49m\u001b[47m\u001b[30mG\u001b[39m\u001b[49m\u001b[47m\u001b[30mT\u001b[39m\u001b[49m\u001b[47m\u001b[30mC\u001b[39m\u001b[49m Locus_13115\n",
       "[6]  2088 \u001b[47m\u001b[30mG\u001b[39m\u001b[49m\u001b[47m\u001b[30mT\u001b[39m\u001b[49m\u001b[47m\u001b[30mG\u001b[39m\u001b[49m\u001b[47m\u001b[30mA\u001b[39m\u001b[49m\u001b[47m\u001b[30mA\u001b[39m\u001b[49m\u001b[47m\u001b[30mT\u001b[39m\u001b[49m\u001b[47m\u001b[30mA\u001b[39m\u001b[49m\u001b[47m\u001b[30mT\u001b[39m\u001b[49m\u001b[47m\u001b[30mT\u001b[39m\u001b[49m\u001b[47m\u001b[30mA\u001b[39m\u001b[49m\u001b[47m\u001b[30mG\u001b[39m\u001b[49m\u001b[47m\u001b[30mC\u001b[39m\u001b[49m\u001b[47m\u001b[30mG\u001b[39m\u001b[49m\u001b[47m\u001b[30mT\u001b[39m\u001b[49m\u001b[47m\u001b[30mA\u001b[39m\u001b[49m\u001b[47m\u001b[30mC\u001b[39m\u001b[49m\u001b[47m\u001b[30mA\u001b[39m\u001b[49m\u001b[47m\u001b[30mA\u001b[39m\u001b[49m\u001b[47m\u001b[30mC\u001b[39m\u001b[49m\u001b[47m\u001b[30mC\u001b[39m\u001b[49m\u001b[47m\u001b[30mA\u001b[39m\u001b[49m\u001b[47m\u001b[30mT\u001b[39m\u001b[49m\u001b[47m\u001b[30mC\u001b[39m\u001b[49m...\u001b[47m\u001b[30mC\u001b[39m\u001b[49m\u001b[47m\u001b[30mT\u001b[39m\u001b[49m\u001b[47m\u001b[30mA\u001b[39m\u001b[49m\u001b[47m\u001b[30mG\u001b[39m\u001b[49m\u001b[47m\u001b[30mA\u001b[39m\u001b[49m\u001b[47m\u001b[30mT\u001b[39m\u001b[49m\u001b[47m\u001b[30mA\u001b[39m\u001b[49m\u001b[47m\u001b[30mA\u001b[39m\u001b[49m\u001b[47m\u001b[30mA\u001b[39m\u001b[49m\u001b[47m\u001b[30mT\u001b[39m\u001b[49m\u001b[47m\u001b[30mA\u001b[39m\u001b[49m\u001b[47m\u001b[30mA\u001b[39m\u001b[49m\u001b[47m\u001b[30mT\u001b[39m\u001b[49m\u001b[47m\u001b[30mA\u001b[39m\u001b[49m\u001b[47m\u001b[30mA\u001b[39m\u001b[49m\u001b[47m\u001b[30mA\u001b[39m\u001b[49m\u001b[47m\u001b[30mA\u001b[39m\u001b[49m\u001b[47m\u001b[30mC\u001b[39m\u001b[49m\u001b[47m\u001b[30mA\u001b[39m\u001b[49m\u001b[47m\u001b[30mC\u001b[39m\u001b[49m\u001b[47m\u001b[30mG\u001b[39m\u001b[49m\u001b[47m\u001b[30mA\u001b[39m\u001b[49m\u001b[47m\u001b[30mC\u001b[39m\u001b[49m Locus_13145"
      ]
     },
     "metadata": {},
     "output_type": "display_data"
    }
   ],
   "source": [
    "# Importer le fichier csv des protéines sélectionnées\n",
    "\n",
    "proteins_of_interest <- read.csv(\"outputs/proteins_of_interest.csv\", sep= \";\")\n",
    "\n",
    "# Ajouter \"locus_\" devant chaque nombre dans la colonne 'locus' pour que cela \n",
    "#coincide avec les noms du fichier FASTA\n",
    "proteins_of_interest$locus <- paste0(\"Locus_\", proteins_of_interest$locus)\n",
    "\n",
    "# Vérifier le résultat\n",
    "head(proteins_of_interest)\n",
    "\n",
    "# Importer le fichier .FA (pouvant être fourni par l'auteure de l'étude initiale) qui comprend les séquences de toutes les protéines détectées chez les palourdes durant l'expérience\n",
    "sequences <- readDNAStringSet(\"input/Reads.fa\")\n",
    "\n",
    "# Afficher les premières séquences pour vérifier\n",
    "head(sequences)"
   ]
  },
  {
   "cell_type": "markdown",
   "id": "b473f350-3248-4e04-98e8-5ed397d3602d",
   "metadata": {},
   "source": [
    "## Transformer le format DNAstringset en dataframe pour les prochaines étapes"
   ]
  },
  {
   "cell_type": "code",
   "execution_count": 24,
   "id": "5fbf4d0f-f6a9-4dce-bc84-ab2a7b0961e8",
   "metadata": {},
   "outputs": [],
   "source": [
    "##convertir le fasta en dataframe \n",
    "fasta_df <- data.frame (\n",
    "  ID = names (sequences),\n",
    "  Sequence = as.character(sequences),\n",
    "  stringsAsFactors = FALSE\n",
    "  \n",
    ")"
   ]
  },
  {
   "cell_type": "markdown",
   "id": "ed94f2a9-6ffc-4862-ba72-f08fc525c9b9",
   "metadata": {},
   "source": [
    "## Extraire les séquences des 49 protéines en les sélectionnant par leur locus"
   ]
  },
  {
   "cell_type": "code",
   "execution_count": 25,
   "id": "54c4cf02-3b17-4cdd-9789-543672585c15",
   "metadata": {
    "tags": []
   },
   "outputs": [],
   "source": [
    "# Effectuer la jointure (inner join) entre fasta_df et proteins_of_interest\n",
    "result_df <- merge(fasta_df, proteins_of_interest, by.x = \"ID\", by.y = \"locus\", all.x = FALSE)\n",
    "\n",
    "# Sélectionner seulement les colonnes ID et Sequence\n",
    "result_df <- result_df[, c(\"ID\", \"Sequence\")]\n",
    "\n"
   ]
  },
  {
   "cell_type": "markdown",
   "id": "d653a435-3a05-4fb7-9d75-d2464141386d",
   "metadata": {},
   "source": [
    "## Enregistrer les séquences qui nous intéressent dans un nouveau fichier fasta"
   ]
  },
  {
   "cell_type": "code",
   "execution_count": 26,
   "id": "d6c34b5b-15d5-4192-9d2c-a19e9acbb09b",
   "metadata": {},
   "outputs": [],
   "source": [
    "# Il faut reconvertir le tableau en fasta pour pouvoir l'enregistrer au bon format\n",
    "# Convertir le dataframe en un objet DNAStringSet\n",
    "sequences <- DNAStringSet(result_df$Sequence)\n",
    "names(sequences) <- result_df$ID  # Ajouter les IDs comme noms des séquences\n",
    "\n",
    "# Enregistrer les séquences dans un fichier FASTA\n",
    "writeXStringSet(sequences, filepath = \"outputs/final_49_seq.fa\")"
   ]
  },
  {
   "cell_type": "markdown",
   "id": "419cec33-10ab-417a-b7a3-6f32f49cbf18",
   "metadata": {},
   "source": [
    "Les séquences des 49 protéines sont maintenant dans le fichier \"final_49_seq.fa\" dans le dossier outputs. Ce fichier doit être chargé sur le site [NCBI](https://blast.ncbi.nlm.nih.gov/Blast.cgi?PROGRAM=blastn&PAGE_TYPE=BlastSearch&LINK_LOC=blasthome) (visité le 05/12/2024). Voici les étapes : \n",
    "\n",
    "1_ Charger le fichier en cliquant sur \"Parcourir\" \n",
    "\n",
    "2_ Cliquer sur BLAST en bas de page \n",
    "\n",
    "3_ Une fois la page chargée, cliquer sur \"Download ALL\" et sélectionner le format txt.\n",
    "\n",
    "4_Renommer le nouveau fichier \"results_blast.txt\" et le déposer dans le dossier outputs."
   ]
  },
  {
   "cell_type": "code",
   "execution_count": 28,
   "id": "6830aa12-7f24-43cc-b657-a077abab957d",
   "metadata": {},
   "outputs": [],
   "source": [
    "# Charger le package stringr\n",
    "library(stringr)\n",
    "\n",
    "#Importer le fichier téléchargé depuis NCBI, normalement disponible dans le dossier outputs (/outputs/results_blast.txt\n",
    "blast <-readLines(\"outputs/results_blast.txt\")\n"
   ]
  },
  {
   "cell_type": "markdown",
   "id": "6f354deb-6078-4be9-9369-4d00f2092cd2",
   "metadata": {},
   "source": [
    "Le fichier texte obtenu comprend beaucoup d'informations qui en plus ne sont pas présentées sous forme de tableau. Les lignes ci-dessous permettent d'extraire les passages comprenant les loci des séquences, ainsi que la fonction de la protéine qui a obtenu la meilleure correspondance via le blast sur NCBI."
   ]
  },
  {
   "cell_type": "code",
   "execution_count": 30,
   "id": "2a235e1b-bec3-4af7-a9fa-e2d4dffadcd1",
   "metadata": {},
   "outputs": [
    {
     "data": {
      "text/html": [
       "<table class=\"dataframe\">\n",
       "<caption>A data.frame: 6 × 2</caption>\n",
       "<thead>\n",
       "\t<tr><th></th><th scope=col>locus</th><th scope=col>Function</th></tr>\n",
       "\t<tr><th></th><th scope=col>&lt;chr&gt;</th><th scope=col>&lt;chr&gt;</th></tr>\n",
       "</thead>\n",
       "<tbody>\n",
       "\t<tr><th scope=row>1</th><td>Locus_1202748</td><td>protein phosphatase 3 catalytic subunit alpha-like</td></tr>\n",
       "\t<tr><th scope=row>2</th><td>Locus_1236277</td><td>glycogen debranching enzyme-like                  </td></tr>\n",
       "\t<tr><th scope=row>3</th><td>Locus_1397283</td><td>titin-like                                        </td></tr>\n",
       "\t<tr><th scope=row>4</th><td>Locus_1979842</td><td>adenosine deaminase AGSA-like                     </td></tr>\n",
       "\t<tr><th scope=row>5</th><td>Locus_2044774</td><td>aspartate aminotransferase, cytoplasmic-like      </td></tr>\n",
       "\t<tr><th scope=row>6</th><td>Locus_2057997</td><td>thioredoxin domain-containing protein 5-like      </td></tr>\n",
       "</tbody>\n",
       "</table>\n"
      ],
      "text/latex": [
       "A data.frame: 6 × 2\n",
       "\\begin{tabular}{r|ll}\n",
       "  & locus & Function\\\\\n",
       "  & <chr> & <chr>\\\\\n",
       "\\hline\n",
       "\t1 & Locus\\_1202748 & protein phosphatase 3 catalytic subunit alpha-like\\\\\n",
       "\t2 & Locus\\_1236277 & glycogen debranching enzyme-like                  \\\\\n",
       "\t3 & Locus\\_1397283 & titin-like                                        \\\\\n",
       "\t4 & Locus\\_1979842 & adenosine deaminase AGSA-like                     \\\\\n",
       "\t5 & Locus\\_2044774 & aspartate aminotransferase, cytoplasmic-like      \\\\\n",
       "\t6 & Locus\\_2057997 & thioredoxin domain-containing protein 5-like      \\\\\n",
       "\\end{tabular}\n"
      ],
      "text/markdown": [
       "\n",
       "A data.frame: 6 × 2\n",
       "\n",
       "| <!--/--> | locus &lt;chr&gt; | Function &lt;chr&gt; |\n",
       "|---|---|---|\n",
       "| 1 | Locus_1202748 | protein phosphatase 3 catalytic subunit alpha-like |\n",
       "| 2 | Locus_1236277 | glycogen debranching enzyme-like                   |\n",
       "| 3 | Locus_1397283 | titin-like                                         |\n",
       "| 4 | Locus_1979842 | adenosine deaminase AGSA-like                      |\n",
       "| 5 | Locus_2044774 | aspartate aminotransferase, cytoplasmic-like       |\n",
       "| 6 | Locus_2057997 | thioredoxin domain-containing protein 5-like       |\n",
       "\n"
      ],
      "text/plain": [
       "  locus         Function                                          \n",
       "1 Locus_1202748 protein phosphatase 3 catalytic subunit alpha-like\n",
       "2 Locus_1236277 glycogen debranching enzyme-like                  \n",
       "3 Locus_1397283 titin-like                                        \n",
       "4 Locus_1979842 adenosine deaminase AGSA-like                     \n",
       "5 Locus_2044774 aspartate aminotransferase, cytoplasmic-like      \n",
       "6 Locus_2057997 thioredoxin domain-containing protein 5-like      "
      ]
     },
     "metadata": {},
     "output_type": "display_data"
    }
   ],
   "source": [
    "#Chercher les lignes avec le texte \"Query\"\n",
    "query_indices <-grep (\"Query #\", blast)\n",
    "\n",
    "#Chercher la ligne de la description de la protéine\n",
    "fonction_indices <-grep (\"Alignments:\", blast)\n",
    "results_fonction <- fonction_indices + 2\n",
    "\n",
    "#Grouper les numéros des lignes qui nous intéressent\n",
    "all_indices <- sort (c(query_indices, results_fonction[results_fonction <= length(blast)]))\n",
    "\n",
    "#Créer un tableau qui contient le locus et la description de la protéine\n",
    "query_description <- data.frame(\n",
    "  Query = blast [query_indices],\n",
    "  Description = blast [results_fonction[results_fonction <= length(blast)]],\n",
    "  stringsAsFactors = FALSE\n",
    ")\n",
    "\n",
    "#Extraire les données intéressantes (locus et rôle de la protéine vers des nouvelles colonnes et un nouveau tableau\n",
    "# Extraire le locus de la colonne 1\n",
    "query_description$locus <- str_extract(query_description$Query, \"Locus_[0-9]+\")\n",
    "\n",
    "# Nettoyer la colonne Description pour garder uniquement la fonction\n",
    "query_description$Function <- sub(\".*: \", \"\", query_description$Description)       # Retirer tout avant \": \"\n",
    "query_description$Function <- sub(\"^.*philippinarum \", \"\", query_description$Function) # Retirer \"philippinarum\" et tout avant\n",
    "query_description$Function <- sub(\" \\\\(LOC.*$\", \"\", query_description$Function)    # Retirer tout ce qui suit (LOC...)\n",
    "query_description$Function <- sub(\" LOC\\\\d+$\", \"\", query_description$Function)     # Retirer le dernier mot LOCXXXXX si présent\n",
    "\n",
    "# Vérifier le résultat\n",
    "head(query_description[, c(\"locus\", \"Function\")])\n",
    "\n",
    "# Sauvegarder le fichier nettoyé\n",
    "write.csv(query_description[, c(\"locus\", \"Function\")], \"outputs/cleaned_query_description.csv\", row.names = FALSE)\n"
   ]
  }
 ],
 "metadata": {
  "kernelspec": {
   "display_name": "R 4.4.1",
   "language": "R",
   "name": "r4.4.1"
  },
  "language_info": {
   "codemirror_mode": "r",
   "file_extension": ".r",
   "mimetype": "text/x-r-source",
   "name": "R",
   "pygments_lexer": "r",
   "version": "4.4.1"
  }
 },
 "nbformat": 4,
 "nbformat_minor": 5
}
